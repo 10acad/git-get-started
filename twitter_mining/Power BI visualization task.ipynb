{
 "cells": [
  {
   "cell_type": "markdown",
   "metadata": {},
   "source": [
    "# Power BI Dashboard Task"
   ]
  },
  {
   "cell_type": "markdown",
   "metadata": {},
   "source": [
    "### Section 1: Explore the dashboard KPIs visualization challenge and answer the following questions\n",
    "* What is the total number of subscribers in the dataset? 751.06k\n",
    "* What is the total revenue?  5.22bn\n",
    "* What is the total number of calls for MTN Ipulse tariff type? 20.11\n",
    "* Which cluster_tag is the top voice user? DORMANT\n",
    "* What is the average voice usage for all the customers? 45.71bn\n",
    "* What is the share of weekday onnet voice usage? 71.08\n",
    "* What is the share of weekend onnet voice usage?  70.62\n",
    "* What is the share of weekend offnet voice usage? 28.95\n",
    "* What is the share of weekend voice usage (secs)? 0.00\n",
    "* Which cluster has the highest number of calls? DORMANT\n",
    "* Which cluster has the lowest voice usage?      `PLATINUM`\n",
    "* Which cluster has the highest night usage? `PLATINUM`"
   ]
  },
  {
   "cell_type": "markdown",
   "metadata": {},
   "source": [
    "### Section 2: Explore the dashboard KPIs visualization challenge and answer the following questions\n",
    "* What is the average data usage?   1.58T\n",
    "* What is the average data usage for women?  1.58T\n",
    "* What is the average data usage in ABIA state?  1.58T\n",
    "* What is the average data usage in BAUCHI state? 1.58T\n",
    "* Which cluster has the highest in bundle data usage?    \n",
    "* What is the average data revenue?  50.58K\n",
    "* What is the average data usage for microsegment 1.10?  1.58T\n",
    "* What is the average data usage for the microsegment 0.80?  1.58T"
   ]
  },
  {
   "cell_type": "markdown",
   "metadata": {},
   "source": [
    "### Section 3: Explore the dashboard KPIs visualization challenge and answer the following questions\n",
    "* What is the total lifetime value of the customers?    10.36BN\n",
    "* What is the average sms usage?   23.68M\n",
    "* What can you diagnose when looking on voice usage trend?  \n",
    "* What can you diagnose when looking on sms usage trend? clicking on the sms usage changes the revenue and Usage from \n",
    "* bn from thousand  "
   ]
  },
  {
   "cell_type": "code",
   "execution_count": null,
   "metadata": {},
   "outputs": [],
   "source": []
  }
 ],
 "metadata": {
  "kernelspec": {
   "display_name": "Python 3",
   "language": "python",
   "name": "python3"
  },
  "language_info": {
   "codemirror_mode": {
    "name": "ipython",
    "version": 3
   },
   "file_extension": ".py",
   "mimetype": "text/x-python",
   "name": "python",
   "nbconvert_exporter": "python",
   "pygments_lexer": "ipython3",
   "version": "3.7.6"
  }
 },
 "nbformat": 4,
 "nbformat_minor": 4
}
